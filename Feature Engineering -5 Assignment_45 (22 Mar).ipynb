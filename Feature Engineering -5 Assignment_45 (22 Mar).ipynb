{
 "cells": [
  {
   "cell_type": "markdown",
   "id": "edc8544b-57bf-4943-a8d0-3d14d67e9873",
   "metadata": {},
   "source": [
    "# Q1. Pearson correlation coefficient is a measure of the linear relationship between two variables. Suppose you have collected data on the amount of time students spend studying for an exam and their final exam scores. Calculate the Pearson correlation coefficient between these two variables and interpret the result."
   ]
  },
  {
   "cell_type": "code",
   "execution_count": 22,
   "id": "5061f02b-7b68-4769-b4d1-177fb01ab062",
   "metadata": {},
   "outputs": [
    {
     "data": {
      "text/html": [
       "<div>\n",
       "<style scoped>\n",
       "    .dataframe tbody tr th:only-of-type {\n",
       "        vertical-align: middle;\n",
       "    }\n",
       "\n",
       "    .dataframe tbody tr th {\n",
       "        vertical-align: top;\n",
       "    }\n",
       "\n",
       "    .dataframe thead th {\n",
       "        text-align: right;\n",
       "    }\n",
       "</style>\n",
       "<table border=\"1\" class=\"dataframe\">\n",
       "  <thead>\n",
       "    <tr style=\"text-align: right;\">\n",
       "      <th></th>\n",
       "      <th>Time_Studied</th>\n",
       "      <th>Marks_Obtained</th>\n",
       "    </tr>\n",
       "  </thead>\n",
       "  <tbody>\n",
       "    <tr>\n",
       "      <th>0</th>\n",
       "      <td>4</td>\n",
       "      <td>60</td>\n",
       "    </tr>\n",
       "    <tr>\n",
       "      <th>1</th>\n",
       "      <td>3</td>\n",
       "      <td>45</td>\n",
       "    </tr>\n",
       "    <tr>\n",
       "      <th>2</th>\n",
       "      <td>5</td>\n",
       "      <td>75</td>\n",
       "    </tr>\n",
       "    <tr>\n",
       "      <th>3</th>\n",
       "      <td>7</td>\n",
       "      <td>92</td>\n",
       "    </tr>\n",
       "    <tr>\n",
       "      <th>4</th>\n",
       "      <td>6</td>\n",
       "      <td>86</td>\n",
       "    </tr>\n",
       "    <tr>\n",
       "      <th>5</th>\n",
       "      <td>8</td>\n",
       "      <td>96</td>\n",
       "    </tr>\n",
       "  </tbody>\n",
       "</table>\n",
       "</div>"
      ],
      "text/plain": [
       "   Time_Studied  Marks_Obtained\n",
       "0             4              60\n",
       "1             3              45\n",
       "2             5              75\n",
       "3             7              92\n",
       "4             6              86\n",
       "5             8              96"
      ]
     },
     "execution_count": 22,
     "metadata": {},
     "output_type": "execute_result"
    }
   ],
   "source": [
    "import pandas as pd\n",
    "df = pd.DataFrame({\n",
    "    'Time_Studied': [4,3,5,7,6,8],\n",
    "    'Marks_Obtained': [60 ,45, 75, 92, 86, 96]\n",
    "})\n",
    "df"
   ]
  },
  {
   "cell_type": "markdown",
   "id": "b442e6fb-007e-40d8-8879-248ef57ba7df",
   "metadata": {},
   "source": [
    "The formula for finding Pearson's correlation between both the variables is:\n",
    "\n",
    "<img src = \"Pearsons.jpg\">\n",
    "\n",
    "We can also find the Pearson's correlation using Python:"
   ]
  },
  {
   "cell_type": "code",
   "execution_count": 23,
   "id": "f46c7a9f-79c6-477b-a0eb-741316d9c4fc",
   "metadata": {},
   "outputs": [
    {
     "data": {
      "text/html": [
       "<div>\n",
       "<style scoped>\n",
       "    .dataframe tbody tr th:only-of-type {\n",
       "        vertical-align: middle;\n",
       "    }\n",
       "\n",
       "    .dataframe tbody tr th {\n",
       "        vertical-align: top;\n",
       "    }\n",
       "\n",
       "    .dataframe thead th {\n",
       "        text-align: right;\n",
       "    }\n",
       "</style>\n",
       "<table border=\"1\" class=\"dataframe\">\n",
       "  <thead>\n",
       "    <tr style=\"text-align: right;\">\n",
       "      <th></th>\n",
       "      <th>Time_Studied</th>\n",
       "      <th>Marks_Obtained</th>\n",
       "    </tr>\n",
       "  </thead>\n",
       "  <tbody>\n",
       "    <tr>\n",
       "      <th>Time_Studied</th>\n",
       "      <td>1.000000</td>\n",
       "      <td>0.974001</td>\n",
       "    </tr>\n",
       "    <tr>\n",
       "      <th>Marks_Obtained</th>\n",
       "      <td>0.974001</td>\n",
       "      <td>1.000000</td>\n",
       "    </tr>\n",
       "  </tbody>\n",
       "</table>\n",
       "</div>"
      ],
      "text/plain": [
       "                Time_Studied  Marks_Obtained\n",
       "Time_Studied        1.000000        0.974001\n",
       "Marks_Obtained      0.974001        1.000000"
      ]
     },
     "execution_count": 23,
     "metadata": {},
     "output_type": "execute_result"
    }
   ],
   "source": [
    "df.corr(method = 'pearson')"
   ]
  },
  {
   "cell_type": "markdown",
   "id": "758ae0cf-daf1-4498-b173-167b7da4e8d8",
   "metadata": {},
   "source": [
    "**Interpretation:**\n",
    "* The Pearson's correlation coefficients in the given results indicate a very strong positive correlation between the variables of \"Time_Studied\" and \"Marks_Obtained\".\n",
    "\n",
    "* Both correlation coefficients are close to 1.000, which means that there is a very strong positive relationship between the two variables. This suggests that as ***\"Time_Studied\" increases, \"Marks_Obtained\" also increases.***"
   ]
  },
  {
   "cell_type": "markdown",
   "id": "df715b75-ebcc-4bbe-abad-922cab71001e",
   "metadata": {},
   "source": [
    "# Q2. Spearman's rank correlation is a measure of the monotonic relationship between two variables. Suppose you have collected data on the amount of sleep individuals get each night and their overall job satisfaction level on a scale of 1 to 10. Calculate the Spearman's rank correlation between these two variables and interpret the result."
   ]
  },
  {
   "cell_type": "code",
   "execution_count": 7,
   "id": "427ecb62-1f36-4ef9-9710-6ece6436483f",
   "metadata": {},
   "outputs": [
    {
     "data": {
      "text/html": [
       "<div>\n",
       "<style scoped>\n",
       "    .dataframe tbody tr th:only-of-type {\n",
       "        vertical-align: middle;\n",
       "    }\n",
       "\n",
       "    .dataframe tbody tr th {\n",
       "        vertical-align: top;\n",
       "    }\n",
       "\n",
       "    .dataframe thead th {\n",
       "        text-align: right;\n",
       "    }\n",
       "</style>\n",
       "<table border=\"1\" class=\"dataframe\">\n",
       "  <thead>\n",
       "    <tr style=\"text-align: right;\">\n",
       "      <th></th>\n",
       "      <th>Sleep_Amount</th>\n",
       "      <th>Job_Satisfaction</th>\n",
       "    </tr>\n",
       "  </thead>\n",
       "  <tbody>\n",
       "    <tr>\n",
       "      <th>0</th>\n",
       "      <td>6</td>\n",
       "      <td>8</td>\n",
       "    </tr>\n",
       "    <tr>\n",
       "      <th>1</th>\n",
       "      <td>7</td>\n",
       "      <td>9</td>\n",
       "    </tr>\n",
       "    <tr>\n",
       "      <th>2</th>\n",
       "      <td>5</td>\n",
       "      <td>4</td>\n",
       "    </tr>\n",
       "    <tr>\n",
       "      <th>3</th>\n",
       "      <td>8</td>\n",
       "      <td>7</td>\n",
       "    </tr>\n",
       "    <tr>\n",
       "      <th>4</th>\n",
       "      <td>7</td>\n",
       "      <td>6</td>\n",
       "    </tr>\n",
       "    <tr>\n",
       "      <th>5</th>\n",
       "      <td>6</td>\n",
       "      <td>5</td>\n",
       "    </tr>\n",
       "    <tr>\n",
       "      <th>6</th>\n",
       "      <td>5</td>\n",
       "      <td>3</td>\n",
       "    </tr>\n",
       "    <tr>\n",
       "      <th>7</th>\n",
       "      <td>9</td>\n",
       "      <td>10</td>\n",
       "    </tr>\n",
       "    <tr>\n",
       "      <th>8</th>\n",
       "      <td>8</td>\n",
       "      <td>9</td>\n",
       "    </tr>\n",
       "    <tr>\n",
       "      <th>9</th>\n",
       "      <td>7</td>\n",
       "      <td>8</td>\n",
       "    </tr>\n",
       "  </tbody>\n",
       "</table>\n",
       "</div>"
      ],
      "text/plain": [
       "   Sleep_Amount  Job_Satisfaction\n",
       "0             6                 8\n",
       "1             7                 9\n",
       "2             5                 4\n",
       "3             8                 7\n",
       "4             7                 6\n",
       "5             6                 5\n",
       "6             5                 3\n",
       "7             9                10\n",
       "8             8                 9\n",
       "9             7                 8"
      ]
     },
     "execution_count": 7,
     "metadata": {},
     "output_type": "execute_result"
    }
   ],
   "source": [
    "import pandas as pd\n",
    "df = pd.DataFrame({\n",
    "    'Sleep_Amount': [6, 7, 5, 8, 7, 6, 5, 9, 8, 7],\n",
    "    'Job_Satisfaction': [8, 9, 4, 7, 6, 5, 3, 10, 9, 8]\n",
    "})\n",
    "df"
   ]
  },
  {
   "cell_type": "code",
   "execution_count": 8,
   "id": "1f3b23f2-068c-44d6-bf19-a19bb4555602",
   "metadata": {},
   "outputs": [
    {
     "data": {
      "text/plain": [
       "0.7976045521851899"
      ]
     },
     "execution_count": 8,
     "metadata": {},
     "output_type": "execute_result"
    }
   ],
   "source": [
    "df['Sleep_Amount'].corr(df['Job_Satisfaction'], method='spearman')"
   ]
  },
  {
   "cell_type": "markdown",
   "id": "3a4725bb-9303-42af-8133-a05e526dbbb7",
   "metadata": {},
   "source": [
    "The formula for calculating Spearman's correlation coefficient between the two variables is:\n",
    "\n",
    "<img src = \"Spearmans.jpg\">\n",
    "\n",
    "We can also find the Spearman's correlation using Python:"
   ]
  },
  {
   "cell_type": "code",
   "execution_count": 9,
   "id": "7f98cc46-a939-4240-9b87-37974b27fb68",
   "metadata": {},
   "outputs": [
    {
     "data": {
      "text/html": [
       "<div>\n",
       "<style scoped>\n",
       "    .dataframe tbody tr th:only-of-type {\n",
       "        vertical-align: middle;\n",
       "    }\n",
       "\n",
       "    .dataframe tbody tr th {\n",
       "        vertical-align: top;\n",
       "    }\n",
       "\n",
       "    .dataframe thead th {\n",
       "        text-align: right;\n",
       "    }\n",
       "</style>\n",
       "<table border=\"1\" class=\"dataframe\">\n",
       "  <thead>\n",
       "    <tr style=\"text-align: right;\">\n",
       "      <th></th>\n",
       "      <th>Sleep_Amount</th>\n",
       "      <th>Job_Satisfaction</th>\n",
       "    </tr>\n",
       "  </thead>\n",
       "  <tbody>\n",
       "    <tr>\n",
       "      <th>Sleep_Amount</th>\n",
       "      <td>1.000000</td>\n",
       "      <td>0.797605</td>\n",
       "    </tr>\n",
       "    <tr>\n",
       "      <th>Job_Satisfaction</th>\n",
       "      <td>0.797605</td>\n",
       "      <td>1.000000</td>\n",
       "    </tr>\n",
       "  </tbody>\n",
       "</table>\n",
       "</div>"
      ],
      "text/plain": [
       "                  Sleep_Amount  Job_Satisfaction\n",
       "Sleep_Amount          1.000000          0.797605\n",
       "Job_Satisfaction      0.797605          1.000000"
      ]
     },
     "execution_count": 9,
     "metadata": {},
     "output_type": "execute_result"
    }
   ],
   "source": [
    "df.corr(method='spearman')"
   ]
  },
  {
   "cell_type": "markdown",
   "id": "e62dd37e-b8be-4ff2-b479-57098c231f9e",
   "metadata": {},
   "source": [
    "**Interpretation:**\n",
    "* The correlation coefficient between Sleep Amount and Job Satisfaction is 0.797605, which is close to +1. This indicates a strong positive monotonic correlation between these two variables.\n",
    "\n",
    "* As the amount of sleep individuals get each night increases, their overall job satisfaction level tends to increase as well. Conversely, as the amount of sleep decreases, job satisfaction tends to decrease."
   ]
  },
  {
   "cell_type": "markdown",
   "id": "44bd9360-618c-4550-b9e8-3f3468876409",
   "metadata": {},
   "source": [
    "# Q3. Suppose you are conducting a study to examine the relationship between the number of hours of exercise per week and body mass index (BMI) in a sample of adults. You collected data on both variables for 50 participants. Calculate the Pearson correlation coefficient and the Spearman's rank correlation between these two variables and compare the results."
   ]
  },
  {
   "cell_type": "markdown",
   "id": "11a8c33a-ec93-4f7a-9d94-adb6130e9fb0",
   "metadata": {},
   "source": [
    "To calculate the Pearson correlation coefficient and the Spearman's rank correlation between the number of hours of exercise per week and body mass index (BMI) in a sample of 50 adults, we need to have data for both variables.\n",
    "\n",
    "We can use Python to generate random data for both variables and then calculate the Pearson and Spearman's rank correlation between them:"
   ]
  },
  {
   "cell_type": "code",
   "execution_count": 10,
   "id": "07e5e5a4-0581-4a0e-906d-ffdd1fb03a1c",
   "metadata": {},
   "outputs": [
    {
     "data": {
      "text/html": [
       "<div>\n",
       "<style scoped>\n",
       "    .dataframe tbody tr th:only-of-type {\n",
       "        vertical-align: middle;\n",
       "    }\n",
       "\n",
       "    .dataframe tbody tr th {\n",
       "        vertical-align: top;\n",
       "    }\n",
       "\n",
       "    .dataframe thead th {\n",
       "        text-align: right;\n",
       "    }\n",
       "</style>\n",
       "<table border=\"1\" class=\"dataframe\">\n",
       "  <thead>\n",
       "    <tr style=\"text-align: right;\">\n",
       "      <th></th>\n",
       "      <th>num_of_hours</th>\n",
       "      <th>bmi</th>\n",
       "    </tr>\n",
       "  </thead>\n",
       "  <tbody>\n",
       "    <tr>\n",
       "      <th>0</th>\n",
       "      <td>4.099613</td>\n",
       "      <td>24.907899</td>\n",
       "    </tr>\n",
       "    <tr>\n",
       "      <th>1</th>\n",
       "      <td>8.268828</td>\n",
       "      <td>25.206615</td>\n",
       "    </tr>\n",
       "    <tr>\n",
       "      <th>2</th>\n",
       "      <td>6.781518</td>\n",
       "      <td>25.903210</td>\n",
       "    </tr>\n",
       "    <tr>\n",
       "      <th>3</th>\n",
       "      <td>2.954586</td>\n",
       "      <td>19.792931</td>\n",
       "    </tr>\n",
       "    <tr>\n",
       "      <th>4</th>\n",
       "      <td>9.218378</td>\n",
       "      <td>30.445805</td>\n",
       "    </tr>\n",
       "  </tbody>\n",
       "</table>\n",
       "</div>"
      ],
      "text/plain": [
       "   num_of_hours        bmi\n",
       "0      4.099613  24.907899\n",
       "1      8.268828  25.206615\n",
       "2      6.781518  25.903210\n",
       "3      2.954586  19.792931\n",
       "4      9.218378  30.445805"
      ]
     },
     "execution_count": 10,
     "metadata": {},
     "output_type": "execute_result"
    }
   ],
   "source": [
    "import numpy as np\n",
    "num_of_hours = np.random.normal(5, 2, 50)\n",
    "bmi = np.random.normal(25, 5, 50)\n",
    "df = pd.DataFrame({\n",
    "    'num_of_hours': num_of_hours,\n",
    "    'bmi': bmi\n",
    "})\n",
    "df.head()\n"
   ]
  },
  {
   "cell_type": "markdown",
   "id": "fb1ff55c-0293-476d-9845-fe433ca4759a",
   "metadata": {},
   "source": [
    "**Pearson's Coefficient Correlation:**"
   ]
  },
  {
   "cell_type": "code",
   "execution_count": 11,
   "id": "490b422a-47e2-4ac3-8e06-3430e4a8026f",
   "metadata": {},
   "outputs": [
    {
     "data": {
      "text/html": [
       "<div>\n",
       "<style scoped>\n",
       "    .dataframe tbody tr th:only-of-type {\n",
       "        vertical-align: middle;\n",
       "    }\n",
       "\n",
       "    .dataframe tbody tr th {\n",
       "        vertical-align: top;\n",
       "    }\n",
       "\n",
       "    .dataframe thead th {\n",
       "        text-align: right;\n",
       "    }\n",
       "</style>\n",
       "<table border=\"1\" class=\"dataframe\">\n",
       "  <thead>\n",
       "    <tr style=\"text-align: right;\">\n",
       "      <th></th>\n",
       "      <th>num_of_hours</th>\n",
       "      <th>bmi</th>\n",
       "    </tr>\n",
       "  </thead>\n",
       "  <tbody>\n",
       "    <tr>\n",
       "      <th>num_of_hours</th>\n",
       "      <td>1.000000</td>\n",
       "      <td>0.297461</td>\n",
       "    </tr>\n",
       "    <tr>\n",
       "      <th>bmi</th>\n",
       "      <td>0.297461</td>\n",
       "      <td>1.000000</td>\n",
       "    </tr>\n",
       "  </tbody>\n",
       "</table>\n",
       "</div>"
      ],
      "text/plain": [
       "              num_of_hours       bmi\n",
       "num_of_hours      1.000000  0.297461\n",
       "bmi               0.297461  1.000000"
      ]
     },
     "execution_count": 11,
     "metadata": {},
     "output_type": "execute_result"
    }
   ],
   "source": [
    "df.corr(method='pearson')"
   ]
  },
  {
   "cell_type": "markdown",
   "id": "4d341b4f-8cf2-4830-b68a-7d4b2b535612",
   "metadata": {},
   "source": [
    "**Spearman's Rank Correlation:**"
   ]
  },
  {
   "cell_type": "code",
   "execution_count": 12,
   "id": "a5b8171a-0c2f-4b63-ab10-96ef52b37c82",
   "metadata": {},
   "outputs": [
    {
     "data": {
      "text/html": [
       "<div>\n",
       "<style scoped>\n",
       "    .dataframe tbody tr th:only-of-type {\n",
       "        vertical-align: middle;\n",
       "    }\n",
       "\n",
       "    .dataframe tbody tr th {\n",
       "        vertical-align: top;\n",
       "    }\n",
       "\n",
       "    .dataframe thead th {\n",
       "        text-align: right;\n",
       "    }\n",
       "</style>\n",
       "<table border=\"1\" class=\"dataframe\">\n",
       "  <thead>\n",
       "    <tr style=\"text-align: right;\">\n",
       "      <th></th>\n",
       "      <th>num_of_hours</th>\n",
       "      <th>bmi</th>\n",
       "    </tr>\n",
       "  </thead>\n",
       "  <tbody>\n",
       "    <tr>\n",
       "      <th>num_of_hours</th>\n",
       "      <td>1.000000</td>\n",
       "      <td>0.315918</td>\n",
       "    </tr>\n",
       "    <tr>\n",
       "      <th>bmi</th>\n",
       "      <td>0.315918</td>\n",
       "      <td>1.000000</td>\n",
       "    </tr>\n",
       "  </tbody>\n",
       "</table>\n",
       "</div>"
      ],
      "text/plain": [
       "              num_of_hours       bmi\n",
       "num_of_hours      1.000000  0.315918\n",
       "bmi               0.315918  1.000000"
      ]
     },
     "execution_count": 12,
     "metadata": {},
     "output_type": "execute_result"
    }
   ],
   "source": [
    "df.corr(method='spearman')"
   ]
  },
  {
   "cell_type": "markdown",
   "id": "262c8608-1e6f-48f8-b088-01d1f38bfa2c",
   "metadata": {},
   "source": [
    "**Results Comparison:**\n",
    "\n",
    "* The Pearson correlation coefficient measures the linear relationship between two variables, and it ranges from -1 (perfect negative correlation) to +1 (perfect positive correlation), with 0 indicating no correlation. In this case, ***the Pearson correlation coefficient between num_of_hours and bmi is 0.138895, which indicates a weak positive correlation between the two variables.***\n",
    "\n",
    "* On the other hand, the Spearman correlation coefficient measures the monotonic relationship between two variables, which means it assesses the strength and direction of a relationship between two variables, without assuming any particular functional form of the relationship. It also ranges from -1 to +1, with 0 indicating no correlation. In this case, ***the Spearman correlation coefficient between num_of_hours and bmi is 0.116447, which also indicates a weak positive correlation between the two variables.***"
   ]
  },
  {
   "cell_type": "markdown",
   "id": "f9a82ab8-3c99-4199-9736-d071290f7313",
   "metadata": {},
   "source": [
    "# Q4. A researcher is interested in examining the relationship between the number of hours individuals spend watching television per day and their level of physical activity. The researcher collected data on both variables from a sample of 50 participants. Calculate the Pearson correlation coefficient between these two variables."
   ]
  },
  {
   "cell_type": "markdown",
   "id": "6f95ffe6-2297-4f49-800a-28b7bdf7cd08",
   "metadata": {},
   "source": [
    "To calculate the Pearson correlation coefficient between the number of hours individuals spend watching television per day and their level of physical activity of hours of exercise per week in a sample of 50 pariticipants, we need to have data for both variables.\n",
    "\n",
    "We can use Python to generate random data for both variables and then calculate the Pearson correlation coeffiecients:"
   ]
  },
  {
   "cell_type": "code",
   "execution_count": 13,
   "id": "d8be9ef5-746f-4c3d-9184-35c7bd8882b2",
   "metadata": {},
   "outputs": [
    {
     "data": {
      "text/html": [
       "<div>\n",
       "<style scoped>\n",
       "    .dataframe tbody tr th:only-of-type {\n",
       "        vertical-align: middle;\n",
       "    }\n",
       "\n",
       "    .dataframe tbody tr th {\n",
       "        vertical-align: top;\n",
       "    }\n",
       "\n",
       "    .dataframe thead th {\n",
       "        text-align: right;\n",
       "    }\n",
       "</style>\n",
       "<table border=\"1\" class=\"dataframe\">\n",
       "  <thead>\n",
       "    <tr style=\"text-align: right;\">\n",
       "      <th></th>\n",
       "      <th>num_of_hours</th>\n",
       "      <th>physical_activity</th>\n",
       "    </tr>\n",
       "  </thead>\n",
       "  <tbody>\n",
       "    <tr>\n",
       "      <th>0</th>\n",
       "      <td>5.221506</td>\n",
       "      <td>13.547394</td>\n",
       "    </tr>\n",
       "    <tr>\n",
       "      <th>1</th>\n",
       "      <td>10.019735</td>\n",
       "      <td>13.046195</td>\n",
       "    </tr>\n",
       "    <tr>\n",
       "      <th>2</th>\n",
       "      <td>0.445414</td>\n",
       "      <td>14.675776</td>\n",
       "    </tr>\n",
       "    <tr>\n",
       "      <th>3</th>\n",
       "      <td>8.649971</td>\n",
       "      <td>8.962043</td>\n",
       "    </tr>\n",
       "    <tr>\n",
       "      <th>4</th>\n",
       "      <td>5.515192</td>\n",
       "      <td>7.628131</td>\n",
       "    </tr>\n",
       "  </tbody>\n",
       "</table>\n",
       "</div>"
      ],
      "text/plain": [
       "   num_of_hours  physical_activity\n",
       "0      5.221506          13.547394\n",
       "1     10.019735          13.046195\n",
       "2      0.445414          14.675776\n",
       "3      8.649971           8.962043\n",
       "4      5.515192           7.628131"
      ]
     },
     "execution_count": 13,
     "metadata": {},
     "output_type": "execute_result"
    }
   ],
   "source": [
    "num_of_hours = np.random.normal(6, 4, 50)\n",
    "amount_of_activity= np.random.normal(10, 6, 50)\n",
    "df = pd.DataFrame({\n",
    "    'num_of_hours': num_of_hours,\n",
    "    'physical_activity': amount_of_activity\n",
    "})\n",
    "df.head()"
   ]
  },
  {
   "cell_type": "markdown",
   "id": "feee3498-cc29-4593-8d29-1ddfa22bea83",
   "metadata": {},
   "source": [
    "**Pearson's Coefficient Correlation:**"
   ]
  },
  {
   "cell_type": "code",
   "execution_count": 14,
   "id": "927ebcd7-a62f-42d3-80fd-8d3cb8b01a1c",
   "metadata": {},
   "outputs": [
    {
     "data": {
      "text/html": [
       "<div>\n",
       "<style scoped>\n",
       "    .dataframe tbody tr th:only-of-type {\n",
       "        vertical-align: middle;\n",
       "    }\n",
       "\n",
       "    .dataframe tbody tr th {\n",
       "        vertical-align: top;\n",
       "    }\n",
       "\n",
       "    .dataframe thead th {\n",
       "        text-align: right;\n",
       "    }\n",
       "</style>\n",
       "<table border=\"1\" class=\"dataframe\">\n",
       "  <thead>\n",
       "    <tr style=\"text-align: right;\">\n",
       "      <th></th>\n",
       "      <th>num_of_hours</th>\n",
       "      <th>physical_activity</th>\n",
       "    </tr>\n",
       "  </thead>\n",
       "  <tbody>\n",
       "    <tr>\n",
       "      <th>num_of_hours</th>\n",
       "      <td>1.000000</td>\n",
       "      <td>-0.025165</td>\n",
       "    </tr>\n",
       "    <tr>\n",
       "      <th>physical_activity</th>\n",
       "      <td>-0.025165</td>\n",
       "      <td>1.000000</td>\n",
       "    </tr>\n",
       "  </tbody>\n",
       "</table>\n",
       "</div>"
      ],
      "text/plain": [
       "                   num_of_hours  physical_activity\n",
       "num_of_hours           1.000000          -0.025165\n",
       "physical_activity     -0.025165           1.000000"
      ]
     },
     "execution_count": 14,
     "metadata": {},
     "output_type": "execute_result"
    }
   ],
   "source": [
    "df.corr(method='pearson')"
   ]
  },
  {
   "cell_type": "markdown",
   "id": "1ec9b14a-c23a-4f74-ba66-808aa89f0f9f",
   "metadata": {},
   "source": [
    "# Q5. A survey was conducted to examine the relationship between age and preference for a particular brand of soft drink. The survey results are shown below:\n",
    "<img src = \"assignment_22.jpg\">"
   ]
  },
  {
   "cell_type": "code",
   "execution_count": 15,
   "id": "b3afef55-5ded-40e4-83ee-467ed6d102bb",
   "metadata": {},
   "outputs": [
    {
     "data": {
      "text/html": [
       "<div>\n",
       "<style scoped>\n",
       "    .dataframe tbody tr th:only-of-type {\n",
       "        vertical-align: middle;\n",
       "    }\n",
       "\n",
       "    .dataframe tbody tr th {\n",
       "        vertical-align: top;\n",
       "    }\n",
       "\n",
       "    .dataframe thead th {\n",
       "        text-align: right;\n",
       "    }\n",
       "</style>\n",
       "<table border=\"1\" class=\"dataframe\">\n",
       "  <thead>\n",
       "    <tr style=\"text-align: right;\">\n",
       "      <th></th>\n",
       "      <th>Age(Years)</th>\n",
       "      <th>Soft Drink Preference</th>\n",
       "    </tr>\n",
       "  </thead>\n",
       "  <tbody>\n",
       "    <tr>\n",
       "      <th>0</th>\n",
       "      <td>25</td>\n",
       "      <td>Coke</td>\n",
       "    </tr>\n",
       "    <tr>\n",
       "      <th>1</th>\n",
       "      <td>42</td>\n",
       "      <td>Pepsi</td>\n",
       "    </tr>\n",
       "    <tr>\n",
       "      <th>2</th>\n",
       "      <td>37</td>\n",
       "      <td>Mountain Dew</td>\n",
       "    </tr>\n",
       "    <tr>\n",
       "      <th>3</th>\n",
       "      <td>19</td>\n",
       "      <td>Coke</td>\n",
       "    </tr>\n",
       "    <tr>\n",
       "      <th>4</th>\n",
       "      <td>31</td>\n",
       "      <td>Pepsi</td>\n",
       "    </tr>\n",
       "    <tr>\n",
       "      <th>5</th>\n",
       "      <td>28</td>\n",
       "      <td>Coke</td>\n",
       "    </tr>\n",
       "  </tbody>\n",
       "</table>\n",
       "</div>"
      ],
      "text/plain": [
       "   Age(Years) Soft Drink Preference\n",
       "0          25                  Coke\n",
       "1          42                 Pepsi\n",
       "2          37          Mountain Dew\n",
       "3          19                  Coke\n",
       "4          31                 Pepsi\n",
       "5          28                  Coke"
      ]
     },
     "execution_count": 15,
     "metadata": {},
     "output_type": "execute_result"
    }
   ],
   "source": [
    "df = pd.DataFrame({\n",
    "    \"Age(Years)\": [25, 42, 37, 19, 31, 28],\n",
    "    \"Soft Drink Preference\": ['Coke', 'Pepsi', 'Mountain Dew', 'Coke', 'Pepsi', 'Coke']\n",
    "})\n",
    "df"
   ]
  },
  {
   "cell_type": "markdown",
   "id": "7ddb613c-cd86-4555-96ea-864757ac4d8a",
   "metadata": {},
   "source": [
    "For finding Pearson correlation, we first need to convert the categorical variable to numerical variable.                                              \n",
    "We can do so by encoding it:"
   ]
  },
  {
   "cell_type": "code",
   "execution_count": 17,
   "id": "99ac785d-f303-4851-ae1d-7e93460fc3f5",
   "metadata": {},
   "outputs": [
    {
     "data": {
      "text/html": [
       "<div>\n",
       "<style scoped>\n",
       "    .dataframe tbody tr th:only-of-type {\n",
       "        vertical-align: middle;\n",
       "    }\n",
       "\n",
       "    .dataframe tbody tr th {\n",
       "        vertical-align: top;\n",
       "    }\n",
       "\n",
       "    .dataframe thead th {\n",
       "        text-align: right;\n",
       "    }\n",
       "</style>\n",
       "<table border=\"1\" class=\"dataframe\">\n",
       "  <thead>\n",
       "    <tr style=\"text-align: right;\">\n",
       "      <th></th>\n",
       "      <th>Age(Years)</th>\n",
       "      <th>Soft Drink Preference Enc</th>\n",
       "    </tr>\n",
       "  </thead>\n",
       "  <tbody>\n",
       "    <tr>\n",
       "      <th>0</th>\n",
       "      <td>25</td>\n",
       "      <td>0</td>\n",
       "    </tr>\n",
       "    <tr>\n",
       "      <th>1</th>\n",
       "      <td>42</td>\n",
       "      <td>2</td>\n",
       "    </tr>\n",
       "    <tr>\n",
       "      <th>2</th>\n",
       "      <td>37</td>\n",
       "      <td>1</td>\n",
       "    </tr>\n",
       "    <tr>\n",
       "      <th>3</th>\n",
       "      <td>19</td>\n",
       "      <td>0</td>\n",
       "    </tr>\n",
       "    <tr>\n",
       "      <th>4</th>\n",
       "      <td>31</td>\n",
       "      <td>2</td>\n",
       "    </tr>\n",
       "    <tr>\n",
       "      <th>5</th>\n",
       "      <td>28</td>\n",
       "      <td>0</td>\n",
       "    </tr>\n",
       "  </tbody>\n",
       "</table>\n",
       "</div>"
      ],
      "text/plain": [
       "   Age(Years)  Soft Drink Preference Enc\n",
       "0          25                          0\n",
       "1          42                          2\n",
       "2          37                          1\n",
       "3          19                          0\n",
       "4          31                          2\n",
       "5          28                          0"
      ]
     },
     "execution_count": 17,
     "metadata": {},
     "output_type": "execute_result"
    }
   ],
   "source": [
    "from sklearn.preprocessing import LabelEncoder\n",
    "encoder = LabelEncoder()\n",
    "encoded_col = encoder.fit_transform(df['Soft Drink Preference'])\n",
    "df_encoded = pd.DataFrame(encoded_col, columns=['Soft Drink Preference Enc'])\n",
    "df_new = pd.concat([df, df_encoded], axis=1)\n",
    "df_new = df_new.drop('Soft Drink Preference', axis=1)\n",
    "df_new"
   ]
  },
  {
   "cell_type": "markdown",
   "id": "c1a9ada2-d81b-426a-a288-fa5246190e41",
   "metadata": {},
   "source": [
    "**Pearson's Coefficient Correlation:**"
   ]
  },
  {
   "cell_type": "code",
   "execution_count": 18,
   "id": "071dfd52-eee7-4576-a32a-39dfcef696dd",
   "metadata": {},
   "outputs": [
    {
     "data": {
      "text/html": [
       "<div>\n",
       "<style scoped>\n",
       "    .dataframe tbody tr th:only-of-type {\n",
       "        vertical-align: middle;\n",
       "    }\n",
       "\n",
       "    .dataframe tbody tr th {\n",
       "        vertical-align: top;\n",
       "    }\n",
       "\n",
       "    .dataframe thead th {\n",
       "        text-align: right;\n",
       "    }\n",
       "</style>\n",
       "<table border=\"1\" class=\"dataframe\">\n",
       "  <thead>\n",
       "    <tr style=\"text-align: right;\">\n",
       "      <th></th>\n",
       "      <th>Age(Years)</th>\n",
       "      <th>Soft Drink Preference Enc</th>\n",
       "    </tr>\n",
       "  </thead>\n",
       "  <tbody>\n",
       "    <tr>\n",
       "      <th>Age(Years)</th>\n",
       "      <td>1.000000</td>\n",
       "      <td>0.769175</td>\n",
       "    </tr>\n",
       "    <tr>\n",
       "      <th>Soft Drink Preference Enc</th>\n",
       "      <td>0.769175</td>\n",
       "      <td>1.000000</td>\n",
       "    </tr>\n",
       "  </tbody>\n",
       "</table>\n",
       "</div>"
      ],
      "text/plain": [
       "                           Age(Years)  Soft Drink Preference Enc\n",
       "Age(Years)                   1.000000                   0.769175\n",
       "Soft Drink Preference Enc    0.769175                   1.000000"
      ]
     },
     "execution_count": 18,
     "metadata": {},
     "output_type": "execute_result"
    }
   ],
   "source": [
    "df_new.corr(method='pearson')"
   ]
  },
  {
   "cell_type": "markdown",
   "id": "93bb434b-c2a6-4ff4-a289-1da3ea457c96",
   "metadata": {},
   "source": [
    "# Q6. A company is interested in examining the relationship between the number of sales calls made per day and the number of sales made per week. The company collected data on both variables from a sample of 30 sales representatives. Calculate the Pearson correlation coefficient between these two variables."
   ]
  },
  {
   "cell_type": "markdown",
   "id": "50599d80-aee4-44db-bd2f-027c180a9b17",
   "metadata": {},
   "source": [
    "Rather than generating 30 random values for both the variables, I'm taking 10 values for each variable."
   ]
  },
  {
   "cell_type": "code",
   "execution_count": 19,
   "id": "73c87fdd-116c-4b1f-9128-6a06ef194f95",
   "metadata": {},
   "outputs": [
    {
     "data": {
      "text/html": [
       "<div>\n",
       "<style scoped>\n",
       "    .dataframe tbody tr th:only-of-type {\n",
       "        vertical-align: middle;\n",
       "    }\n",
       "\n",
       "    .dataframe tbody tr th {\n",
       "        vertical-align: top;\n",
       "    }\n",
       "\n",
       "    .dataframe thead th {\n",
       "        text-align: right;\n",
       "    }\n",
       "</style>\n",
       "<table border=\"1\" class=\"dataframe\">\n",
       "  <thead>\n",
       "    <tr style=\"text-align: right;\">\n",
       "      <th></th>\n",
       "      <th>num_of_calls</th>\n",
       "      <th>num_of_sales</th>\n",
       "    </tr>\n",
       "  </thead>\n",
       "  <tbody>\n",
       "    <tr>\n",
       "      <th>0</th>\n",
       "      <td>20</td>\n",
       "      <td>2</td>\n",
       "    </tr>\n",
       "    <tr>\n",
       "      <th>1</th>\n",
       "      <td>30</td>\n",
       "      <td>3</td>\n",
       "    </tr>\n",
       "    <tr>\n",
       "      <th>2</th>\n",
       "      <td>10</td>\n",
       "      <td>2</td>\n",
       "    </tr>\n",
       "    <tr>\n",
       "      <th>3</th>\n",
       "      <td>40</td>\n",
       "      <td>5</td>\n",
       "    </tr>\n",
       "    <tr>\n",
       "      <th>4</th>\n",
       "      <td>60</td>\n",
       "      <td>5</td>\n",
       "    </tr>\n",
       "    <tr>\n",
       "      <th>5</th>\n",
       "      <td>80</td>\n",
       "      <td>6</td>\n",
       "    </tr>\n",
       "    <tr>\n",
       "      <th>6</th>\n",
       "      <td>60</td>\n",
       "      <td>8</td>\n",
       "    </tr>\n",
       "    <tr>\n",
       "      <th>7</th>\n",
       "      <td>50</td>\n",
       "      <td>5</td>\n",
       "    </tr>\n",
       "    <tr>\n",
       "      <th>8</th>\n",
       "      <td>40</td>\n",
       "      <td>7</td>\n",
       "    </tr>\n",
       "    <tr>\n",
       "      <th>9</th>\n",
       "      <td>100</td>\n",
       "      <td>20</td>\n",
       "    </tr>\n",
       "  </tbody>\n",
       "</table>\n",
       "</div>"
      ],
      "text/plain": [
       "   num_of_calls  num_of_sales\n",
       "0            20             2\n",
       "1            30             3\n",
       "2            10             2\n",
       "3            40             5\n",
       "4            60             5\n",
       "5            80             6\n",
       "6            60             8\n",
       "7            50             5\n",
       "8            40             7\n",
       "9           100            20"
      ]
     },
     "execution_count": 19,
     "metadata": {},
     "output_type": "execute_result"
    }
   ],
   "source": [
    "num_of_calls = [20, 30, 10, 40, 60, 80, 60, 50, 40, 100]\n",
    "num_of_sales = [2, 3, 2, 5, 5, 6, 8, 5, 7, 20]\n",
    "df = pd.DataFrame({\n",
    "    'num_of_calls': num_of_calls,\n",
    "    'num_of_sales': num_of_sales\n",
    "})\n",
    "df"
   ]
  },
  {
   "cell_type": "markdown",
   "id": "82c85e48-c3cf-4e0c-b118-a297ce25c117",
   "metadata": {},
   "source": [
    "**Pearson's Coefficient Correlation:**"
   ]
  },
  {
   "cell_type": "code",
   "execution_count": 20,
   "id": "344c3d18-a285-455a-b5c6-52eff17c21c9",
   "metadata": {},
   "outputs": [
    {
     "data": {
      "text/html": [
       "<div>\n",
       "<style scoped>\n",
       "    .dataframe tbody tr th:only-of-type {\n",
       "        vertical-align: middle;\n",
       "    }\n",
       "\n",
       "    .dataframe tbody tr th {\n",
       "        vertical-align: top;\n",
       "    }\n",
       "\n",
       "    .dataframe thead th {\n",
       "        text-align: right;\n",
       "    }\n",
       "</style>\n",
       "<table border=\"1\" class=\"dataframe\">\n",
       "  <thead>\n",
       "    <tr style=\"text-align: right;\">\n",
       "      <th></th>\n",
       "      <th>num_of_calls</th>\n",
       "      <th>num_of_sales</th>\n",
       "    </tr>\n",
       "  </thead>\n",
       "  <tbody>\n",
       "    <tr>\n",
       "      <th>num_of_calls</th>\n",
       "      <td>1.000000</td>\n",
       "      <td>0.824008</td>\n",
       "    </tr>\n",
       "    <tr>\n",
       "      <th>num_of_sales</th>\n",
       "      <td>0.824008</td>\n",
       "      <td>1.000000</td>\n",
       "    </tr>\n",
       "  </tbody>\n",
       "</table>\n",
       "</div>"
      ],
      "text/plain": [
       "              num_of_calls  num_of_sales\n",
       "num_of_calls      1.000000      0.824008\n",
       "num_of_sales      0.824008      1.000000"
      ]
     },
     "execution_count": 20,
     "metadata": {},
     "output_type": "execute_result"
    }
   ],
   "source": [
    "df.corr(method='pearson')"
   ]
  },
  {
   "cell_type": "markdown",
   "id": "53285495-3e94-40c0-908b-545fd349db1a",
   "metadata": {},
   "source": [
    "**Spearman's Rank Correlation:**"
   ]
  },
  {
   "cell_type": "code",
   "execution_count": 21,
   "id": "067cdf37-f04a-4379-997d-d07c7d2914b5",
   "metadata": {},
   "outputs": [
    {
     "data": {
      "text/html": [
       "<div>\n",
       "<style scoped>\n",
       "    .dataframe tbody tr th:only-of-type {\n",
       "        vertical-align: middle;\n",
       "    }\n",
       "\n",
       "    .dataframe tbody tr th {\n",
       "        vertical-align: top;\n",
       "    }\n",
       "\n",
       "    .dataframe thead th {\n",
       "        text-align: right;\n",
       "    }\n",
       "</style>\n",
       "<table border=\"1\" class=\"dataframe\">\n",
       "  <thead>\n",
       "    <tr style=\"text-align: right;\">\n",
       "      <th></th>\n",
       "      <th>num_of_calls</th>\n",
       "      <th>num_of_sales</th>\n",
       "    </tr>\n",
       "  </thead>\n",
       "  <tbody>\n",
       "    <tr>\n",
       "      <th>num_of_calls</th>\n",
       "      <td>1.000000</td>\n",
       "      <td>0.835949</td>\n",
       "    </tr>\n",
       "    <tr>\n",
       "      <th>num_of_sales</th>\n",
       "      <td>0.835949</td>\n",
       "      <td>1.000000</td>\n",
       "    </tr>\n",
       "  </tbody>\n",
       "</table>\n",
       "</div>"
      ],
      "text/plain": [
       "              num_of_calls  num_of_sales\n",
       "num_of_calls      1.000000      0.835949\n",
       "num_of_sales      0.835949      1.000000"
      ]
     },
     "execution_count": 21,
     "metadata": {},
     "output_type": "execute_result"
    }
   ],
   "source": [
    "df.corr(method='spearman')"
   ]
  }
 ],
 "metadata": {
  "kernelspec": {
   "display_name": "Python 3 (ipykernel)",
   "language": "python",
   "name": "python3"
  },
  "language_info": {
   "codemirror_mode": {
    "name": "ipython",
    "version": 3
   },
   "file_extension": ".py",
   "mimetype": "text/x-python",
   "name": "python",
   "nbconvert_exporter": "python",
   "pygments_lexer": "ipython3",
   "version": "3.10.8"
  }
 },
 "nbformat": 4,
 "nbformat_minor": 5
}
